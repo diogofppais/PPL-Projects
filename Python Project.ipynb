{
 "cells": [
  {
   "cell_type": "markdown",
   "id": "89f24014",
   "metadata": {},
   "source": [
    "# **Projeto - Interface Interativa de SQL com exportação para Excel**"
   ]
  },
  {
   "cell_type": "markdown",
   "id": "ef88d33a",
   "metadata": {},
   "source": [
    "## **Objetivo do Projeto**\n",
    "\n",
    "O objetivo deste projeto é desenvolver uma interface interativa em Python para interação\n",
    "com uma base de dados relacional hospedada em SQL Server Azure (utilizada na cadeira\n",
    "de Bases de Dados). A aplicação deverá permitir que o utilizador insira comandos SQL de\n",
    "forma interativa, execute esses comandos na base de dados e obtenha os resultados.\n",
    "Além disso, a aplicação deverá exportar os dados resultantes em formato de tabela para\n",
    "um ficheiro Excel."
   ]
  },
  {
   "cell_type": "markdown",
   "id": "75b13a3b",
   "metadata": {},
   "source": [
    "### **Bibliotecas utilizadas**\n",
    "\n",
    "+ 'pandas': para manipulação e visualização dos dados\n",
    "+ 'sqlalchemy': para conectar e executar comandos SQL\n",
    "+ 'getpass': para inserir passwords de forma segura"
   ]
  },
  {
   "cell_type": "markdown",
   "id": "772b7031",
   "metadata": {},
   "source": [
    "### **Funcionalidades Implementadas**"
   ]
  },
  {
   "cell_type": "markdown",
   "id": "5291f3a0",
   "metadata": {},
   "source": [
    "+ Conexão dinâmica à base de dados com utilização de inputs para aceder ao servidor, base de dados, inserir o username e a respetiva password através do \"getpass\".\n",
    "+ Confirma a conectividade à base de dados.\n",
    "+ Executa queries SQL inseridas pelo utilizador.\n",
    "+ Apresenta resultados em forma de tabela com a utilização da biblioteca \"pandas\".\n",
    "+ O utilizador consegue escolher se pretende exportar o resultado para excel e o nome do ficheiro Excel onde pretende guardar os resultados."
   ]
  },
  {
   "cell_type": "markdown",
   "id": "ec0d9439",
   "metadata": {},
   "source": [
    "### 1. Importar as bibliotecas necessárias para o projeto:"
   ]
  },
  {
   "cell_type": "code",
   "execution_count": null,
   "id": "3218047b",
   "metadata": {},
   "outputs": [],
   "source": [
    "import pandas as pd\n",
    "from sqlalchemy import create_engine\n",
    "import getpass"
   ]
  },
  {
   "cell_type": "markdown",
   "id": "502910b8",
   "metadata": {},
   "source": [
    "### 2. Criação das variáveis para fazer a conexão à base de dados do SQL Server e efetuar o login de forma interativa:"
   ]
  },
  {
   "cell_type": "code",
   "execution_count": null,
   "id": "f948e6db",
   "metadata": {},
   "outputs": [],
   "source": [
    "#  Está em comentário o server, a database, username e password que utilizamos para fazer conexão ao SQL Server de DDM\n",
    "\n",
    "server = input(\"Insere o nome do servidor SQL: \")\n",
    "# 'se-ddm-5b.database.windows.net'\n",
    "\n",
    "database = input(\"Insere o nome da base de dados: \")\n",
    "# 'ddm_5b'\n",
    "\n",
    "username = input(\"Insere o nome de utilizador: \")\n",
    "# 'g01'\n",
    "\n",
    "password = getpass.getpass(\"Insere a tua password: \")\n",
    "# 'iseg&ddm01'\n",
    "\n",
    "driver= 'SQL Server'\n",
    "# Criar a string de conexão\n",
    "connection_string = f'mssql+pyodbc://{username}:{password}@{server}/{database}?driver={driver}'"
   ]
  },
  {
   "cell_type": "code",
   "execution_count": null,
   "id": "d0eca53d",
   "metadata": {},
   "outputs": [],
   "source": [
    "\n",
    "# Print da connection string\n",
    "\n",
    "print(f'The string is |{connection_string}|')"
   ]
  },
  {
   "cell_type": "markdown",
   "id": "cc8e8562",
   "metadata": {},
   "source": [
    "### 3. Criação do \"Engine\" e confirmar se o login é efetuado com sucesso:"
   ]
  },
  {
   "cell_type": "code",
   "execution_count": null,
   "id": "ff235330",
   "metadata": {},
   "outputs": [],
   "source": [
    "\n",
    "# Criamos o engine e tentamos fazer login na base de dados ao utilizar a connection string.\n",
    "\n",
    "try:\n",
    "    engine = create_engine(connection_string)\n",
    "    print(\"Conexão estabelecida\")\n",
    "\n",
    "except Exception as e:\n",
    "    print(f\"Erro ao conectar à base de dados: {e}\")\n",
    "    exit()\n",
    "\n"
   ]
  },
  {
   "cell_type": "markdown",
   "id": "aa8e87df",
   "metadata": {},
   "source": [
    "### 4. Criação de um ciclo while que recebe a query, questiona se pretendemos exportar para excel e obtemos os resultados da mesma. Para sair do loop, utilizamos a keyword, \"sair\":"
   ]
  },
  {
   "cell_type": "code",
   "execution_count": null,
   "id": "f5250dd1",
   "metadata": {},
   "outputs": [],
   "source": [
    "# Loop para execução de SQL\n",
    " \n",
    "queries = []  # Lista (opcional) para guardar mais do que um query\n",
    " \n",
    "while True:\n",
    "    query = input(\"\\nInserir o comando SQL (ou  'sair' para terminar): \")\n",
    "    #'select Title, FirstName, MiddleName, LastName, Suffix from Customer'\n",
    "    if query.lower() == 'sair':\n",
    "        print(\"A sair\")\n",
    "        break\n",
    " \n",
    " \n",
    " \n",
    "    try:\n",
    "        # Executar a consulta e mostrar os resultados\n",
    "        df = pd.read_sql(query, engine)\n",
    "        print(df)  # apresenta a tabela\n",
    " \n",
    "        # Perguntar se o utilizador quer exportar os dados para Excel\n",
    "        exportar = input(\"Queres exportar a base de dados para Excel? (sim/não): \").lower()\n",
    "        if exportar == 'sim':\n",
    "            nome_ficheiro = input(\"Insere o nome do ficheiro Excel: \")\n",
    " \n",
    "            # Garantir que tem extensão correta\n",
    "            if not nome_ficheiro.endswith(\".xlsx\"):\n",
    "                 excel_file = f\"{nome_ficheiro}.xlsx\"\n",
    "            else:\n",
    "                  excel_file = nome_ficheiro\n",
    " \n",
    "            with pd.ExcelWriter(excel_file, engine='xlsxwriter') as writer:\n",
    "                df.to_excel(writer, sheet_name='ComandoSql', index=False)\n",
    "          \n",
    "               # Formatação deve estar dentro do 'with'\n",
    "                workbook = writer.book\n",
    "                worksheet = writer.sheets['ComandoSql']\n",
    "                worksheet.set_column('A:Z', 20)  # Ajustar largura das colunas\n",
    " \n",
    "                print(f\"Resultados exportados para {excel_file}\")\n",
    " \n",
    "    except Exception as e:\n",
    "        print(f\"A exportação não foi possível, tenta de novo: {e}\")"
   ]
  },
  {
   "cell_type": "markdown",
   "id": "7be6139b",
   "metadata": {},
   "source": [
    "### 5. Encerrar a ligação à base de dados:"
   ]
  },
  {
   "cell_type": "code",
   "execution_count": null,
   "id": "ee31a1c1",
   "metadata": {},
   "outputs": [],
   "source": [
    "engine.dispose()\n",
    "print(\"A conexão foi encerrada.\")"
   ]
  }
 ],
 "metadata": {
  "kernelspec": {
   "display_name": "Python 3",
   "language": "python",
   "name": "python3"
  },
  "language_info": {
   "codemirror_mode": {
    "name": "ipython",
    "version": 3
   },
   "file_extension": ".py",
   "mimetype": "text/x-python",
   "name": "python",
   "nbconvert_exporter": "python",
   "pygments_lexer": "ipython3",
   "version": "3.12.10"
  }
 },
 "nbformat": 4,
 "nbformat_minor": 5
}
